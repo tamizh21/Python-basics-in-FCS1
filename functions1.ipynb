{
 "cells": [
  {
   "cell_type": "code",
   "execution_count": 1,
   "metadata": {},
   "outputs": [
    {
     "name": "stdout",
     "output_type": "stream",
     "text": [
      "Enter the nameAnushka\n",
      "nushkaAXZ\n"
     ]
    }
   ],
   "source": [
    "name = input(\"Enter the name\")\n",
    "Vowels = ('a','e','i','o','u')\n",
    "for val in name:\n",
    "    if val in Vowels:\n",
    "        print(name[1:]+name[0]+'XZ')\n",
    "        break\n",
    "else:\n",
    "        print(name+'XY')"
   ]
  },
  {
   "cell_type": "code",
   "execution_count": 2,
   "metadata": {},
   "outputs": [],
   "source": [
    "def random(arg):\n",
    "    import random\n",
    "    for x in range(arg):\n",
    "        print(random.randint(1,50))"
   ]
  },
  {
   "cell_type": "code",
   "execution_count": 3,
   "metadata": {},
   "outputs": [
    {
     "name": "stdout",
     "output_type": "stream",
     "text": [
      "43\n",
      "1\n",
      "37\n",
      "34\n",
      "42\n"
     ]
    }
   ],
   "source": [
    "random(5)"
   ]
  },
  {
   "cell_type": "code",
   "execution_count": 20,
   "metadata": {},
   "outputs": [
    {
     "name": "stdout",
     "output_type": "stream",
     "text": [
      "Enter the value of temperature100\n",
      "Enter value in c or ff\n",
      "37.77777777777778\n"
     ]
    }
   ],
   "source": [
    "temp = float(input(\"Enter the value of temperature\"))\n",
    "t = input(\"Enter value in c or f\")\n",
    "if (t.lower()=='f'):\n",
    "    print((temp-32)*(5/9));\n",
    "elif (t.lower()=='c'):\n",
    "    print(temp*(9/5)+32)"
   ]
  },
  {
   "cell_type": "code",
   "execution_count": 7,
   "metadata": {},
   "outputs": [],
   "source": [
    "def fun():\n",
    "    '''This is to print Hello world'''\n",
    "    print(\"Hello World\")"
   ]
  },
  {
   "cell_type": "code",
   "execution_count": 8,
   "metadata": {},
   "outputs": [
    {
     "name": "stdout",
     "output_type": "stream",
     "text": [
      "Hello World\n"
     ]
    }
   ],
   "source": [
    "fun()"
   ]
  },
  {
   "cell_type": "code",
   "execution_count": 9,
   "metadata": {},
   "outputs": [],
   "source": [
    "def fun(name):\n",
    "    print(\"hello \" + name + \".\")"
   ]
  },
  {
   "cell_type": "code",
   "execution_count": 11,
   "metadata": {},
   "outputs": [
    {
     "name": "stdout",
     "output_type": "stream",
     "text": [
      "hello Tamizh.\n"
     ]
    }
   ],
   "source": [
    "fun('Tamizh')"
   ]
  },
  {
   "cell_type": "code",
   "execution_count": 16,
   "metadata": {},
   "outputs": [
    {
     "name": "stdout",
     "output_type": "stream",
     "text": [
      "Enter a number5\n",
      " 5 is a prime number\n"
     ]
    }
   ],
   "source": [
    "x = int(input(\"Enter a number\"))\n",
    "for i in range(2,x):\n",
    "    if x%i==0:\n",
    "        print(f\" {x} is not a prime number\")\n",
    "        break\n",
    "else:\n",
    "    print(f\" {x} is a prime number\")\n"
   ]
  },
  {
   "cell_type": "code",
   "execution_count": null,
   "metadata": {},
   "outputs": [],
   "source": []
  }
 ],
 "metadata": {
  "kernelspec": {
   "display_name": "Python 3",
   "language": "python",
   "name": "python3"
  },
  "language_info": {
   "codemirror_mode": {
    "name": "ipython",
    "version": 3
   },
   "file_extension": ".py",
   "mimetype": "text/x-python",
   "name": "python",
   "nbconvert_exporter": "python",
   "pygments_lexer": "ipython3",
   "version": "3.7.1"
  }
 },
 "nbformat": 4,
 "nbformat_minor": 2
}
